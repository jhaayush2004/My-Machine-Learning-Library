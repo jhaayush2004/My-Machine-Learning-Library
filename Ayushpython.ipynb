{
 "cells": [
  {
   "cell_type": "markdown",
   "id": "53b82434",
   "metadata": {},
   "source": [
    "#python programming"
   ]
  },
  {
   "cell_type": "markdown",
   "id": "b0b0be55",
   "metadata": {},
   "source": [
    "# Display Calculations\n"
   ]
  },
  {
   "cell_type": "code",
   "execution_count": 2,
   "id": "c97c91c0",
   "metadata": {},
   "outputs": [
    {
     "name": "stdout",
     "output_type": "stream",
     "text": [
      "DJ\n"
     ]
    }
   ],
   "source": [
    "print(\"DJ\")"
   ]
  },
  {
   "cell_type": "markdown",
   "id": "55de2ca2",
   "metadata": {},
   "source": [
    "# Display Calculations\n"
   ]
  },
  {
   "cell_type": "code",
   "execution_count": 4,
   "id": "f1cdf8ad",
   "metadata": {},
   "outputs": [
    {
     "name": "stdout",
     "output_type": "stream",
     "text": [
      "6\n",
      "12\n"
     ]
    }
   ],
   "source": [
    "print(2*3)\n",
    "print(3*4)"
   ]
  },
  {
   "cell_type": "code",
   "execution_count": null,
   "id": "e49ae0a9",
   "metadata": {},
   "outputs": [],
   "source": []
  }
 ],
 "metadata": {
  "kernelspec": {
   "display_name": "Python 3 (ipykernel)",
   "language": "python",
   "name": "python3"
  },
  "language_info": {
   "codemirror_mode": {
    "name": "ipython",
    "version": 3
   },
   "file_extension": ".py",
   "mimetype": "text/x-python",
   "name": "python",
   "nbconvert_exporter": "python",
   "pygments_lexer": "ipython3",
   "version": "3.10.9"
  }
 },
 "nbformat": 4,
 "nbformat_minor": 5
}
