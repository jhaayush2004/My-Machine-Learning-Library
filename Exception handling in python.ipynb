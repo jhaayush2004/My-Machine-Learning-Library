{
 "cells": [
  {
   "cell_type": "markdown",
   "id": "ce308260",
   "metadata": {},
   "source": [
    "# EXCEPTION HANDLING IN PYTHON"
   ]
  },
  {
   "cell_type": "code",
   "execution_count": 1,
   "id": "bc76608a",
   "metadata": {},
   "outputs": [
    {
     "name": "stdout",
     "output_type": "stream",
     "text": [
      "Enter First Number: 3\n",
      "Enter Second Number: 0\n"
     ]
    },
    {
     "ename": "ZeroDivisionError",
     "evalue": "division by zero",
     "output_type": "error",
     "traceback": [
      "\u001b[1;31m---------------------------------------------------------------------------\u001b[0m",
      "\u001b[1;31mZeroDivisionError\u001b[0m                         Traceback (most recent call last)",
      "Cell \u001b[1;32mIn[1], line 3\u001b[0m\n\u001b[0;32m      1\u001b[0m x\u001b[38;5;241m=\u001b[39m\u001b[38;5;28minput\u001b[39m(\u001b[38;5;124m\"\u001b[39m\u001b[38;5;124mEnter First Number: \u001b[39m\u001b[38;5;124m\"\u001b[39m)\n\u001b[0;32m      2\u001b[0m y\u001b[38;5;241m=\u001b[39m\u001b[38;5;28minput\u001b[39m(\u001b[38;5;124m\"\u001b[39m\u001b[38;5;124mEnter Second Number: \u001b[39m\u001b[38;5;124m\"\u001b[39m)\n\u001b[1;32m----> 3\u001b[0m z\u001b[38;5;241m=\u001b[39m\u001b[38;5;28;43mint\u001b[39;49m\u001b[43m(\u001b[49m\u001b[43mx\u001b[49m\u001b[43m)\u001b[49m\u001b[38;5;241;43m/\u001b[39;49m\u001b[38;5;28;43mint\u001b[39;49m\u001b[43m(\u001b[49m\u001b[43my\u001b[49m\u001b[43m)\u001b[49m\n\u001b[0;32m      4\u001b[0m \u001b[38;5;28mprint\u001b[39m(\u001b[38;5;124m\"\u001b[39m\u001b[38;5;124mDivision is : \u001b[39m\u001b[38;5;124m\"\u001b[39m,z)\n",
      "\u001b[1;31mZeroDivisionError\u001b[0m: division by zero"
     ]
    }
   ],
   "source": [
    "x=input(\"Enter First Number: \")\n",
    "y=input(\"Enter Second Number: \")\n",
    "z=int(x)/int(y)\n",
    "print(\"Division is : \",z)"
   ]
  },
  {
   "cell_type": "markdown",
   "id": "92b38fa5",
   "metadata": {},
   "source": [
    "# our program got terminated at the point division become invalid and didn't ran further to give \"print\" statement output.so that's why we need exception handling to prevent our program from terminating in middle and to make it to reach the destination."
   ]
  },
  {
   "cell_type": "code",
   "execution_count": 11,
   "id": "709e90f4",
   "metadata": {},
   "outputs": [
    {
     "name": "stdout",
     "output_type": "stream",
     "text": [
      "Enter First Number: 4\n",
      "Enter Second Number: 0\n",
      "exception ocuured :  division by zero\n",
      "division by zero\n",
      "Division is :  None\n",
      "task done master!!!\n"
     ]
    }
   ],
   "source": [
    "x=input(\"Enter First Number: \")\n",
    "y=input(\"Enter Second Number: \")\n",
    "try:\n",
    "   z=int(x)/int(y)\n",
    "except Exception as e:\n",
    "   print('exception ocuured : ',e)\n",
    "   print(e)\n",
    "   z=None\n",
    "print(\"Division is : \",z)    \n",
    "print(\"task done master!!!\")\n"
   ]
  },
  {
   "cell_type": "markdown",
   "id": "e6ba2faa",
   "metadata": {},
   "source": [
    "# here,program didn't crashed in between..."
   ]
  },
  {
   "cell_type": "code",
   "execution_count": 13,
   "id": "b93163fe",
   "metadata": {},
   "outputs": [
    {
     "name": "stdout",
     "output_type": "stream",
     "text": [
      "Enter First Number: 1\n",
      "Enter Second Number: 0\n",
      "Division is :  None\n",
      "task done master!!!\n"
     ]
    }
   ],
   "source": [
    "x=input(\"Enter First Number: \")\n",
    "y=input(\"Enter Second Number: \")\n",
    "try:\n",
    "   z=x/int(y)\n",
    "except Exception as e:\n",
    "   z=None\n",
    "print(\"Division is : \",z)    \n",
    "print(\"task done master!!!\")\n"
   ]
  },
  {
   "cell_type": "markdown",
   "id": "cbbd18c8",
   "metadata": {},
   "source": [
    "# this is handling multiple exceptions ,no typecast of \"x\" to int and other is division by zero.\n"
   ]
  },
  {
   "cell_type": "code",
   "execution_count": 15,
   "id": "39862b6f",
   "metadata": {},
   "outputs": [
    {
     "name": "stdout",
     "output_type": "stream",
     "text": [
      "Enter First Number: 1\n",
      "Enter Second Number: 0\n",
      "exception type :  TypeError\n",
      "Division is :  None\n",
      "task done master!!!\n"
     ]
    }
   ],
   "source": [
    "x=input(\"Enter First Number: \")\n",
    "y=input(\"Enter Second Number: \")\n",
    "try:\n",
    "   z=x/int(y)\n",
    "except Exception as e:\n",
    "   print('exception type : ',type(e).__name__)\n",
    "   z=None\n",
    "print(\"Division is : \",z)    \n",
    "print(\"task done master!!!\")\n"
   ]
  },
  {
   "cell_type": "code",
   "execution_count": 19,
   "id": "f3727249",
   "metadata": {},
   "outputs": [
    {
     "name": "stdout",
     "output_type": "stream",
     "text": [
      "Enter First Number: 1\n",
      "Enter Second Number: 0\n",
      "exception type:  TypeError\n",
      "Division is :  None\n",
      "task done master!!!\n"
     ]
    }
   ],
   "source": [
    "x=input(\"Enter First Number: \")\n",
    "y=input(\"Enter Second Number: \")\n",
    "try:\n",
    "   z=x/int(y)\n",
    "except ZeroDivisionError as e:\n",
    "   print('division by zero ')\n",
    "   z=None\n",
    "except Exception as e:\n",
    "    print(\"exception type: \",type(e).__name__)\n",
    "    z=None\n",
    "print(\"Division is : \",z)    \n",
    "print(\"task done master!!!\")\n"
   ]
  },
  {
   "cell_type": "code",
   "execution_count": 20,
   "id": "5cd26c15",
   "metadata": {},
   "outputs": [
    {
     "name": "stdout",
     "output_type": "stream",
     "text": [
      "Enter First Number: 1\n",
      "Enter Second Number: 0\n",
      "type error exception\n",
      "Division is :  None\n",
      "task done master!!!\n"
     ]
    }
   ],
   "source": [
    "x=input(\"Enter First Number: \")\n",
    "y=input(\"Enter Second Number: \")\n",
    "try:\n",
    "   z=x/int(y)\n",
    "except ZeroDivisionError as e:\n",
    "   print('division by zero ')\n",
    "   z=None\n",
    "except TypeError as e:\n",
    "    print('type error exception')\n",
    "    z=None\n",
    "print(\"Division is : \",z)    \n",
    "print(\"task done master!!!\")\n"
   ]
  },
  {
   "cell_type": "code",
   "execution_count": null,
   "id": "592ffc64",
   "metadata": {},
   "outputs": [],
   "source": []
  }
 ],
 "metadata": {
  "kernelspec": {
   "display_name": "Python 3 (ipykernel)",
   "language": "python",
   "name": "python3"
  },
  "language_info": {
   "codemirror_mode": {
    "name": "ipython",
    "version": 3
   },
   "file_extension": ".py",
   "mimetype": "text/x-python",
   "name": "python",
   "nbconvert_exporter": "python",
   "pygments_lexer": "ipython3",
   "version": "3.10.9"
  }
 },
 "nbformat": 4,
 "nbformat_minor": 5
}
