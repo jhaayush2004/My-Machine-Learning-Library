{
 "cells": [
  {
   "cell_type": "markdown",
   "id": "ff723068-2bae-4ad3-ac9b-5cc930b7ff5c",
   "metadata": {},
   "source": []
  },
  {
   "cell_type": "code",
   "execution_count": 1,
   "id": "75b557ed-7acf-4e8f-aec9-499c00672e49",
   "metadata": {},
   "outputs": [],
   "source": [
    "import numpy as np"
   ]
  },
  {
   "cell_type": "code",
   "execution_count": 2,
   "id": "4687499c-041a-4678-a5e7-9d99f0c089ea",
   "metadata": {},
   "outputs": [
    {
     "data": {
      "text/plain": [
       "array([[1, 1, 1],\n",
       "       [1, 1, 1],\n",
       "       [1, 1, 1]], dtype=int64)"
      ]
     },
     "execution_count": 2,
     "metadata": {},
     "output_type": "execute_result"
    }
   ],
   "source": [
    "np.ones((3,3),dtype='i8')"
   ]
  },
  {
   "cell_type": "code",
   "execution_count": 3,
   "id": "c8dd5a31-58a7-4854-9679-870d0265a977",
   "metadata": {},
   "outputs": [
    {
     "data": {
      "text/plain": [
       "array([[1., 1., 1.],\n",
       "       [1., 1., 1.],\n",
       "       [1., 1., 1.]])"
      ]
     },
     "execution_count": 3,
     "metadata": {},
     "output_type": "execute_result"
    }
   ],
   "source": [
    "np.ones((3,3),dtype='f8')"
   ]
  },
  {
   "cell_type": "code",
   "execution_count": 5,
   "id": "2c5836ec-c693-4e4b-8e55-c0e4bea04376",
   "metadata": {},
   "outputs": [
    {
     "data": {
      "text/plain": [
       "array([[1., 1., 1.],\n",
       "       [1., 1., 1.],\n",
       "       [1., 1., 1.]])"
      ]
     },
     "execution_count": 5,
     "metadata": {},
     "output_type": "execute_result"
    }
   ],
   "source": [
    "np.ones((3,3))"
   ]
  },
  {
   "cell_type": "code",
   "execution_count": 6,
   "id": "10ed6589-47d1-4bb3-83a9-bcadc4792ef2",
   "metadata": {},
   "outputs": [],
   "source": [
    "A=np.eye(3)"
   ]
  },
  {
   "cell_type": "code",
   "execution_count": 8,
   "id": "61694a02-2b72-4dc7-844b-53e8769b4c19",
   "metadata": {},
   "outputs": [
    {
     "data": {
      "text/plain": [
       "array([[1., 0., 0.],\n",
       "       [0., 1., 0.],\n",
       "       [0., 0., 1.]])"
      ]
     },
     "execution_count": 8,
     "metadata": {},
     "output_type": "execute_result"
    }
   ],
   "source": [
    "A"
   ]
  },
  {
   "cell_type": "code",
   "execution_count": 9,
   "id": "0686db89-9222-4fc8-8bde-c72ce0235c74",
   "metadata": {},
   "outputs": [],
   "source": [
    "B=np.where(A==0,100,200)"
   ]
  },
  {
   "cell_type": "code",
   "execution_count": 10,
   "id": "72abea43-7b41-4f80-9aed-421649d9e5e2",
   "metadata": {},
   "outputs": [
    {
     "data": {
      "text/plain": [
       "array([[200, 100, 100],\n",
       "       [100, 200, 100],\n",
       "       [100, 100, 200]])"
      ]
     },
     "execution_count": 10,
     "metadata": {},
     "output_type": "execute_result"
    }
   ],
   "source": [
    "B"
   ]
  },
  {
   "cell_type": "code",
   "execution_count": 11,
   "id": "38b40f6f-6119-466a-9b0f-f41d97750c72",
   "metadata": {},
   "outputs": [
    {
     "data": {
      "text/plain": [
       "array([200, 100, 100])"
      ]
     },
     "execution_count": 11,
     "metadata": {},
     "output_type": "execute_result"
    }
   ],
   "source": [
    "B[0]"
   ]
  },
  {
   "cell_type": "code",
   "execution_count": 12,
   "id": "7c9e2407-39ba-4b89-9374-5c35f733724e",
   "metadata": {},
   "outputs": [],
   "source": [
    "C=B[0:2]"
   ]
  },
  {
   "cell_type": "code",
   "execution_count": 13,
   "id": "bfe4b0c3-3207-4958-ab31-519a427e9c06",
   "metadata": {},
   "outputs": [
    {
     "data": {
      "text/plain": [
       "array([[200, 100, 100],\n",
       "       [100, 200, 100]])"
      ]
     },
     "execution_count": 13,
     "metadata": {},
     "output_type": "execute_result"
    }
   ],
   "source": [
    "C"
   ]
  },
  {
   "cell_type": "code",
   "execution_count": 15,
   "id": "00a17169-fca2-4cbe-b28f-38067ebf211e",
   "metadata": {},
   "outputs": [
    {
     "data": {
      "text/plain": [
       "array([200, 100])"
      ]
     },
     "execution_count": 15,
     "metadata": {},
     "output_type": "execute_result"
    }
   ],
   "source": [
    "C[:,0]"
   ]
  },
  {
   "cell_type": "code",
   "execution_count": 16,
   "id": "53e51ebd-7e15-45c5-b22f-414248205686",
   "metadata": {},
   "outputs": [],
   "source": [
    "D=C[0,0]"
   ]
  },
  {
   "cell_type": "code",
   "execution_count": 17,
   "id": "1eb89c09-e5aa-42c5-aa97-dc0c13e636d2",
   "metadata": {},
   "outputs": [
    {
     "data": {
      "text/plain": [
       "200"
      ]
     },
     "execution_count": 17,
     "metadata": {},
     "output_type": "execute_result"
    }
   ],
   "source": [
    "D"
   ]
  },
  {
   "cell_type": "code",
   "execution_count": 18,
   "id": "633ec968-282e-424a-b024-39e58022218f",
   "metadata": {},
   "outputs": [
    {
     "data": {
      "text/plain": [
       "0"
      ]
     },
     "execution_count": 18,
     "metadata": {},
     "output_type": "execute_result"
    }
   ],
   "source": [
    "D.ndim"
   ]
  },
  {
   "cell_type": "code",
   "execution_count": 19,
   "id": "652b451e-b89f-4e08-96b6-b84d7a2dbb40",
   "metadata": {},
   "outputs": [
    {
     "data": {
      "text/plain": [
       "()"
      ]
     },
     "execution_count": 19,
     "metadata": {},
     "output_type": "execute_result"
    }
   ],
   "source": [
    "D.shape"
   ]
  },
  {
   "cell_type": "code",
   "execution_count": 20,
   "id": "dcd7e6da-8fa8-49f3-b2bc-443a8e62e655",
   "metadata": {},
   "outputs": [],
   "source": [
    "E=C[0:,0:1]"
   ]
  },
  {
   "cell_type": "code",
   "execution_count": 21,
   "id": "ca8c26c2-39ad-4b24-a0de-a131cbdbbead",
   "metadata": {},
   "outputs": [
    {
     "data": {
      "text/plain": [
       "array([[200],\n",
       "       [100]])"
      ]
     },
     "execution_count": 21,
     "metadata": {},
     "output_type": "execute_result"
    }
   ],
   "source": [
    "E"
   ]
  },
  {
   "cell_type": "code",
   "execution_count": 22,
   "id": "6812a1f7-6d35-4242-a305-6d73715aef03",
   "metadata": {},
   "outputs": [
    {
     "data": {
      "text/plain": [
       "2"
      ]
     },
     "execution_count": 22,
     "metadata": {},
     "output_type": "execute_result"
    }
   ],
   "source": [
    "E.ndim"
   ]
  },
  {
   "cell_type": "code",
   "execution_count": 23,
   "id": "da2a0708-3ff8-4813-8918-cc6dc6b25efa",
   "metadata": {},
   "outputs": [
    {
     "data": {
      "text/plain": [
       "(2, 1)"
      ]
     },
     "execution_count": 23,
     "metadata": {},
     "output_type": "execute_result"
    }
   ],
   "source": [
    "E.shape"
   ]
  },
  {
   "cell_type": "code",
   "execution_count": 24,
   "id": "9bca9a3a-537d-4a4b-aad0-2b8cc7e3f051",
   "metadata": {},
   "outputs": [],
   "source": [
    "A1=np.arange(1,10).reshape(3,3)"
   ]
  },
  {
   "cell_type": "code",
   "execution_count": 25,
   "id": "3be50286-1013-4dc8-af3e-2af9ce90cedc",
   "metadata": {},
   "outputs": [
    {
     "data": {
      "text/plain": [
       "array([[1, 2, 3],\n",
       "       [4, 5, 6],\n",
       "       [7, 8, 9]])"
      ]
     },
     "execution_count": 25,
     "metadata": {},
     "output_type": "execute_result"
    }
   ],
   "source": [
    "A1"
   ]
  },
  {
   "cell_type": "code",
   "execution_count": 26,
   "id": "9b0c6f45-8ca7-45a4-bd57-88231a67199e",
   "metadata": {},
   "outputs": [],
   "source": [
    "A2=np.arange(11,20).reshape(3,3)"
   ]
  },
  {
   "cell_type": "code",
   "execution_count": 27,
   "id": "a9de4f23-1265-4dff-bedb-5e7a779d61c0",
   "metadata": {},
   "outputs": [
    {
     "data": {
      "text/plain": [
       "array([[11, 12, 13],\n",
       "       [14, 15, 16],\n",
       "       [17, 18, 19]])"
      ]
     },
     "execution_count": 27,
     "metadata": {},
     "output_type": "execute_result"
    }
   ],
   "source": [
    "A2"
   ]
  },
  {
   "cell_type": "code",
   "execution_count": 28,
   "id": "026026a9-43cb-4a25-8697-f1fc76f9d971",
   "metadata": {},
   "outputs": [
    {
     "ename": "TypeError",
     "evalue": "only integer scalar arrays can be converted to a scalar index",
     "output_type": "error",
     "traceback": [
      "\u001b[1;31m---------------------------------------------------------------------------\u001b[0m",
      "\u001b[1;31mTypeError\u001b[0m                                 Traceback (most recent call last)",
      "Cell \u001b[1;32mIn[28], line 1\u001b[0m\n\u001b[1;32m----> 1\u001b[0m A12\u001b[38;5;241m=\u001b[39m\u001b[43mnp\u001b[49m\u001b[38;5;241;43m.\u001b[39;49m\u001b[43mconcatenate\u001b[49m\u001b[43m(\u001b[49m\u001b[43mA1\u001b[49m\u001b[43m,\u001b[49m\u001b[43mA2\u001b[49m\u001b[43m)\u001b[49m\n",
      "\u001b[1;31mTypeError\u001b[0m: only integer scalar arrays can be converted to a scalar index"
     ]
    }
   ],
   "source": [
    "A12=np.concatenate(A1,A2)"
   ]
  },
  {
   "cell_type": "code",
   "execution_count": 29,
   "id": "9e40feeb-fb71-4ba2-8397-d9d4e28d4a68",
   "metadata": {},
   "outputs": [],
   "source": [
    "A12=np.concatenate((A1,A2))"
   ]
  },
  {
   "cell_type": "code",
   "execution_count": 30,
   "id": "d94b8ead-3df4-40fd-915a-874c00c026c1",
   "metadata": {},
   "outputs": [
    {
     "data": {
      "text/plain": [
       "array([[ 1,  2,  3],\n",
       "       [ 4,  5,  6],\n",
       "       [ 7,  8,  9],\n",
       "       [11, 12, 13],\n",
       "       [14, 15, 16],\n",
       "       [17, 18, 19]])"
      ]
     },
     "execution_count": 30,
     "metadata": {},
     "output_type": "execute_result"
    }
   ],
   "source": [
    "A12"
   ]
  },
  {
   "cell_type": "code",
   "execution_count": 31,
   "id": "7ccbfaa8-b6a7-4ad9-ba5d-6a72ca84c66c",
   "metadata": {},
   "outputs": [],
   "source": [
    "A13=np.concatenate((A1,A2),axis=0)"
   ]
  },
  {
   "cell_type": "code",
   "execution_count": 32,
   "id": "5cb99e0f-df3f-463f-9f31-0ebf990d19fb",
   "metadata": {},
   "outputs": [
    {
     "data": {
      "text/plain": [
       "array([[ 1,  2,  3],\n",
       "       [ 4,  5,  6],\n",
       "       [ 7,  8,  9],\n",
       "       [11, 12, 13],\n",
       "       [14, 15, 16],\n",
       "       [17, 18, 19]])"
      ]
     },
     "execution_count": 32,
     "metadata": {},
     "output_type": "execute_result"
    }
   ],
   "source": [
    "A13"
   ]
  },
  {
   "cell_type": "code",
   "execution_count": 33,
   "id": "b6eb864a-a5b0-4c51-b7ce-e92cc574f015",
   "metadata": {},
   "outputs": [],
   "source": [
    "A14=np.concatenate((A1,A2),axis=1)"
   ]
  },
  {
   "cell_type": "code",
   "execution_count": 34,
   "id": "494fbb15-a190-470b-8f45-721f4321d374",
   "metadata": {},
   "outputs": [
    {
     "data": {
      "text/plain": [
       "array([[ 1,  2,  3, 11, 12, 13],\n",
       "       [ 4,  5,  6, 14, 15, 16],\n",
       "       [ 7,  8,  9, 17, 18, 19]])"
      ]
     },
     "execution_count": 34,
     "metadata": {},
     "output_type": "execute_result"
    }
   ],
   "source": [
    "A14"
   ]
  },
  {
   "cell_type": "code",
   "execution_count": 35,
   "id": "b7b1a42a-4d1a-4cd5-9661-66395a825fd4",
   "metadata": {},
   "outputs": [],
   "source": [
    "A15=np.vstack((A1,A2))"
   ]
  },
  {
   "cell_type": "code",
   "execution_count": 36,
   "id": "e7048d0b-6f12-44b1-9b55-c676b1ddf51b",
   "metadata": {},
   "outputs": [
    {
     "data": {
      "text/plain": [
       "array([[ 1,  2,  3],\n",
       "       [ 4,  5,  6],\n",
       "       [ 7,  8,  9],\n",
       "       [11, 12, 13],\n",
       "       [14, 15, 16],\n",
       "       [17, 18, 19]])"
      ]
     },
     "execution_count": 36,
     "metadata": {},
     "output_type": "execute_result"
    }
   ],
   "source": [
    "A15"
   ]
  },
  {
   "cell_type": "code",
   "execution_count": 38,
   "id": "23b48314-7678-4ca9-bfed-a6dae7178764",
   "metadata": {},
   "outputs": [
    {
     "ename": "TypeError",
     "evalue": "vstack() got an unexpected keyword argument 'axis'",
     "output_type": "error",
     "traceback": [
      "\u001b[1;31m---------------------------------------------------------------------------\u001b[0m",
      "\u001b[1;31mTypeError\u001b[0m                                 Traceback (most recent call last)",
      "Cell \u001b[1;32mIn[38], line 1\u001b[0m\n\u001b[1;32m----> 1\u001b[0m A16\u001b[38;5;241m=\u001b[39m\u001b[43mnp\u001b[49m\u001b[38;5;241;43m.\u001b[39;49m\u001b[43mvstack\u001b[49m\u001b[43m(\u001b[49m\u001b[43m(\u001b[49m\u001b[43mA1\u001b[49m\u001b[43m,\u001b[49m\u001b[43mA2\u001b[49m\u001b[43m)\u001b[49m\u001b[43m,\u001b[49m\u001b[43maxis\u001b[49m\u001b[38;5;241;43m=\u001b[39;49m\u001b[38;5;241;43m0\u001b[39;49m\u001b[43m)\u001b[49m\n",
      "\u001b[1;31mTypeError\u001b[0m: vstack() got an unexpected keyword argument 'axis'"
     ]
    }
   ],
   "source": [
    "A16=np.vstack((A1,A2),axis=0)"
   ]
  },
  {
   "cell_type": "code",
   "execution_count": 39,
   "id": "2c0ecf12-7b0d-4e06-806f-d63297dcb494",
   "metadata": {},
   "outputs": [
    {
     "ename": "TypeError",
     "evalue": "vstack() takes 1 positional argument but 2 were given",
     "output_type": "error",
     "traceback": [
      "\u001b[1;31m---------------------------------------------------------------------------\u001b[0m",
      "\u001b[1;31mTypeError\u001b[0m                                 Traceback (most recent call last)",
      "Cell \u001b[1;32mIn[39], line 1\u001b[0m\n\u001b[1;32m----> 1\u001b[0m A17\u001b[38;5;241m=\u001b[39m\u001b[43mnp\u001b[49m\u001b[38;5;241;43m.\u001b[39;49m\u001b[43mvstack\u001b[49m\u001b[43m(\u001b[49m\u001b[43mA1\u001b[49m\u001b[43m,\u001b[49m\u001b[43mA2\u001b[49m\u001b[43m)\u001b[49m\n",
      "\u001b[1;31mTypeError\u001b[0m: vstack() takes 1 positional argument but 2 were given"
     ]
    }
   ],
   "source": [
    "A17=np.vstack(A1,A2)"
   ]
  },
  {
   "cell_type": "code",
   "execution_count": 40,
   "id": "df4668bc-66df-4839-804a-145d6d0981c3",
   "metadata": {},
   "outputs": [],
   "source": [
    "A17=np.vstack((A1,A2))"
   ]
  },
  {
   "cell_type": "code",
   "execution_count": 41,
   "id": "31d1bce7-e86f-4e96-bdfc-056789e47cf0",
   "metadata": {},
   "outputs": [
    {
     "data": {
      "text/plain": [
       "array([[ 1,  2,  3],\n",
       "       [ 4,  5,  6],\n",
       "       [ 7,  8,  9],\n",
       "       [11, 12, 13],\n",
       "       [14, 15, 16],\n",
       "       [17, 18, 19]])"
      ]
     },
     "execution_count": 41,
     "metadata": {},
     "output_type": "execute_result"
    }
   ],
   "source": [
    "A17"
   ]
  },
  {
   "cell_type": "code",
   "execution_count": 42,
   "id": "67ed357b-6ab1-42ab-8149-a3f914afae23",
   "metadata": {},
   "outputs": [],
   "source": [
    "A18=np.hstack((A1,A2))"
   ]
  },
  {
   "cell_type": "code",
   "execution_count": 43,
   "id": "58ea101c-90ba-4732-8a29-34c68c4ac9da",
   "metadata": {},
   "outputs": [
    {
     "data": {
      "text/plain": [
       "array([[ 1,  2,  3, 11, 12, 13],\n",
       "       [ 4,  5,  6, 14, 15, 16],\n",
       "       [ 7,  8,  9, 17, 18, 19]])"
      ]
     },
     "execution_count": 43,
     "metadata": {},
     "output_type": "execute_result"
    }
   ],
   "source": [
    "A18"
   ]
  },
  {
   "cell_type": "code",
   "execution_count": 44,
   "id": "324627fe-7550-4922-b6cd-29058b72f459",
   "metadata": {},
   "outputs": [],
   "source": [
    "B1=A18.T"
   ]
  },
  {
   "cell_type": "code",
   "execution_count": 45,
   "id": "051832df-769b-47ae-ad13-ecb9e5859e39",
   "metadata": {},
   "outputs": [
    {
     "data": {
      "text/plain": [
       "array([[ 1,  4,  7],\n",
       "       [ 2,  5,  8],\n",
       "       [ 3,  6,  9],\n",
       "       [11, 14, 17],\n",
       "       [12, 15, 18],\n",
       "       [13, 16, 19]])"
      ]
     },
     "execution_count": 45,
     "metadata": {},
     "output_type": "execute_result"
    }
   ],
   "source": [
    "B1"
   ]
  },
  {
   "cell_type": "code",
   "execution_count": 46,
   "id": "9fb10112-c532-421f-929c-cc0a7914cd80",
   "metadata": {},
   "outputs": [
    {
     "data": {
      "text/plain": [
       "array([[ 1,  2,  3, 11, 12, 13],\n",
       "       [ 4,  5,  6, 14, 15, 16],\n",
       "       [ 7,  8,  9, 17, 18, 19]])"
      ]
     },
     "execution_count": 46,
     "metadata": {},
     "output_type": "execute_result"
    }
   ],
   "source": [
    "A18"
   ]
  },
  {
   "cell_type": "code",
   "execution_count": 47,
   "id": "4e44089f-ffbd-456a-9fae-5c76d94d00ed",
   "metadata": {},
   "outputs": [
    {
     "data": {
      "text/plain": [
       "array([[ 1,  4,  7],\n",
       "       [ 2,  5,  8],\n",
       "       [ 3,  6,  9],\n",
       "       [11, 14, 17],\n",
       "       [12, 15, 18],\n",
       "       [13, 16, 19]])"
      ]
     },
     "execution_count": 47,
     "metadata": {},
     "output_type": "execute_result"
    }
   ],
   "source": [
    "A18.T"
   ]
  },
  {
   "cell_type": "code",
   "execution_count": 48,
   "id": "d8949d84-f42b-4eba-928b-8c5002f34b63",
   "metadata": {},
   "outputs": [
    {
     "data": {
      "text/plain": [
       "array([[ 1,  4,  7],\n",
       "       [ 2,  5,  8],\n",
       "       [ 3,  6,  9],\n",
       "       [11, 14, 17],\n",
       "       [12, 15, 18],\n",
       "       [13, 16, 19]])"
      ]
     },
     "execution_count": 48,
     "metadata": {},
     "output_type": "execute_result"
    }
   ],
   "source": [
    "A18.swapaxes(0,1)"
   ]
  },
  {
   "cell_type": "code",
   "execution_count": 49,
   "id": "fd5151ea-519a-4250-bc12-91bdf464cdec",
   "metadata": {},
   "outputs": [
    {
     "data": {
      "text/plain": [
       "array([[ 1,  2,  3, 11, 12, 13],\n",
       "       [ 4,  5,  6, 14, 15, 16],\n",
       "       [ 7,  8,  9, 17, 18, 19]])"
      ]
     },
     "execution_count": 49,
     "metadata": {},
     "output_type": "execute_result"
    }
   ],
   "source": [
    "A18"
   ]
  },
  {
   "cell_type": "code",
   "execution_count": 50,
   "id": "3f88887e-99ef-4146-b9ed-7f0378904fa3",
   "metadata": {},
   "outputs": [
    {
     "data": {
      "text/plain": [
       "array([[ 1,  4,  7],\n",
       "       [ 2,  5,  8],\n",
       "       [ 3,  6,  9],\n",
       "       [11, 14, 17],\n",
       "       [12, 15, 18],\n",
       "       [13, 16, 19]])"
      ]
     },
     "execution_count": 50,
     "metadata": {},
     "output_type": "execute_result"
    }
   ],
   "source": [
    "A18.swapaxes(1,0)"
   ]
  },
  {
   "cell_type": "code",
   "execution_count": 51,
   "id": "b07b1462-9b7f-49e7-a167-f8c57e7fb3e9",
   "metadata": {},
   "outputs": [
    {
     "data": {
      "text/plain": [
       "array([[ 1,  2,  3, 11, 12, 13],\n",
       "       [ 4,  5,  6, 14, 15, 16],\n",
       "       [ 7,  8,  9, 17, 18, 19]])"
      ]
     },
     "execution_count": 51,
     "metadata": {},
     "output_type": "execute_result"
    }
   ],
   "source": [
    "A18"
   ]
  },
  {
   "cell_type": "code",
   "execution_count": 52,
   "id": "27cac7cf-4cdf-4fbf-83ea-99b0cc3d79d6",
   "metadata": {},
   "outputs": [
    {
     "ename": "TypeError",
     "evalue": "swapaxes() takes exactly 2 arguments (0 given)",
     "output_type": "error",
     "traceback": [
      "\u001b[1;31m---------------------------------------------------------------------------\u001b[0m",
      "\u001b[1;31mTypeError\u001b[0m                                 Traceback (most recent call last)",
      "Cell \u001b[1;32mIn[52], line 1\u001b[0m\n\u001b[1;32m----> 1\u001b[0m \u001b[43mA18\u001b[49m\u001b[38;5;241;43m.\u001b[39;49m\u001b[43mswapaxes\u001b[49m\u001b[43m(\u001b[49m\u001b[43m)\u001b[49m\n",
      "\u001b[1;31mTypeError\u001b[0m: swapaxes() takes exactly 2 arguments (0 given)"
     ]
    }
   ],
   "source": [
    "A18.swapaxes()"
   ]
  },
  {
   "cell_type": "code",
   "execution_count": 53,
   "id": "6387a7ac-29b4-4b05-a9e2-8e9541caaf35",
   "metadata": {},
   "outputs": [],
   "source": [
    "G=np.random.randint(10,110,10)"
   ]
  },
  {
   "cell_type": "code",
   "execution_count": 54,
   "id": "5ec16549-3b5e-474b-bab6-afdb75577b1a",
   "metadata": {},
   "outputs": [
    {
     "data": {
      "text/plain": [
       "array([103,  23,  51,  57,  74,  14,  45,  57,  23,  65])"
      ]
     },
     "execution_count": 54,
     "metadata": {},
     "output_type": "execute_result"
    }
   ],
   "source": [
    "G"
   ]
  },
  {
   "cell_type": "code",
   "execution_count": 55,
   "id": "16da7bce-46a3-4144-9ee4-81d9bba46af6",
   "metadata": {},
   "outputs": [
    {
     "data": {
      "text/plain": [
       "10"
      ]
     },
     "execution_count": 55,
     "metadata": {},
     "output_type": "execute_result"
    }
   ],
   "source": [
    "G.size"
   ]
  },
  {
   "cell_type": "code",
   "execution_count": 56,
   "id": "f1e48473-30da-44ec-99c0-ecf4223ba336",
   "metadata": {},
   "outputs": [],
   "source": [
    "H=G.reshape(2,-1)"
   ]
  },
  {
   "cell_type": "code",
   "execution_count": 57,
   "id": "22e5bc55-fc6d-495b-b396-2b934fb37bc5",
   "metadata": {},
   "outputs": [
    {
     "data": {
      "text/plain": [
       "array([[103,  23,  51,  57,  74],\n",
       "       [ 14,  45,  57,  23,  65]])"
      ]
     },
     "execution_count": 57,
     "metadata": {},
     "output_type": "execute_result"
    }
   ],
   "source": [
    "H"
   ]
  },
  {
   "cell_type": "code",
   "execution_count": 58,
   "id": "6969c778-d1cd-4213-b3a6-2bac4ca3d0ec",
   "metadata": {},
   "outputs": [],
   "source": [
    "H.sort()"
   ]
  },
  {
   "cell_type": "code",
   "execution_count": 59,
   "id": "832e1e0f-e9bd-42ec-847b-b2d093255d25",
   "metadata": {},
   "outputs": [
    {
     "data": {
      "text/plain": [
       "array([[ 23,  51,  57,  74, 103],\n",
       "       [ 14,  23,  45,  57,  65]])"
      ]
     },
     "execution_count": 59,
     "metadata": {},
     "output_type": "execute_result"
    }
   ],
   "source": [
    "H"
   ]
  },
  {
   "cell_type": "code",
   "execution_count": 60,
   "id": "ab4742b4-4c9e-4260-a5f7-c11458d2388e",
   "metadata": {},
   "outputs": [],
   "source": [
    "H.sort(axis=1)"
   ]
  },
  {
   "cell_type": "code",
   "execution_count": 61,
   "id": "f51fadcd-8d6e-4c03-87b0-d2bb6d924351",
   "metadata": {},
   "outputs": [
    {
     "data": {
      "text/plain": [
       "array([[ 23,  51,  57,  74, 103],\n",
       "       [ 14,  23,  45,  57,  65]])"
      ]
     },
     "execution_count": 61,
     "metadata": {},
     "output_type": "execute_result"
    }
   ],
   "source": [
    "H"
   ]
  },
  {
   "cell_type": "code",
   "execution_count": 62,
   "id": "dee9aa65-99e0-404b-b371-4c000534e019",
   "metadata": {},
   "outputs": [],
   "source": [
    "H.sort(axis=0)"
   ]
  },
  {
   "cell_type": "code",
   "execution_count": 63,
   "id": "154d722b-433e-4301-b6cb-49e10cf9bedc",
   "metadata": {},
   "outputs": [
    {
     "data": {
      "text/plain": [
       "array([[ 14,  23,  45,  57,  65],\n",
       "       [ 23,  51,  57,  74, 103]])"
      ]
     },
     "execution_count": 63,
     "metadata": {},
     "output_type": "execute_result"
    }
   ],
   "source": [
    "H"
   ]
  },
  {
   "cell_type": "code",
   "execution_count": 66,
   "id": "4edc5f73-202c-487a-83c5-ad12dbfcaf85",
   "metadata": {},
   "outputs": [
    {
     "data": {
      "text/plain": [
       "array([[ 23,  51,  57,  74, 103],\n",
       "       [ 14,  23,  45,  57,  65]])"
      ]
     },
     "execution_count": 66,
     "metadata": {},
     "output_type": "execute_result"
    }
   ],
   "source": [
    "H[::-1]"
   ]
  },
  {
   "cell_type": "code",
   "execution_count": 68,
   "id": "f6a070c9-26c9-4013-abf7-09012d9977dd",
   "metadata": {},
   "outputs": [
    {
     "data": {
      "text/plain": [
       "array([[ 14,  23,  45,  57,  65],\n",
       "       [ 23,  51,  57,  74, 103]])"
      ]
     },
     "execution_count": 68,
     "metadata": {},
     "output_type": "execute_result"
    }
   ],
   "source": [
    "H"
   ]
  },
  {
   "cell_type": "code",
   "execution_count": 67,
   "id": "0ce34d1e-71d6-4985-afe6-8a41d2459c73",
   "metadata": {},
   "outputs": [
    {
     "data": {
      "text/plain": [
       "array([[ 65,  57,  45,  23,  14],\n",
       "       [103,  74,  57,  51,  23]])"
      ]
     },
     "execution_count": 67,
     "metadata": {},
     "output_type": "execute_result"
    }
   ],
   "source": [
    "H[:,::-1]"
   ]
  },
  {
   "cell_type": "code",
   "execution_count": 73,
   "id": "fc03255b-d66c-4ea8-80a4-333ae221ac5a",
   "metadata": {},
   "outputs": [],
   "source": [
    "from numpy import linalg"
   ]
  },
  {
   "cell_type": "code",
   "execution_count": 74,
   "id": "9b569bef-c5b9-421f-9ad5-e59c8939b66e",
   "metadata": {},
   "outputs": [],
   "source": [
    "A=np.arange(1,10).reshape(3,3)"
   ]
  },
  {
   "cell_type": "code",
   "execution_count": 75,
   "id": "014927fb-af93-4eef-9544-c348717eb905",
   "metadata": {},
   "outputs": [
    {
     "data": {
      "text/plain": [
       "array([[1, 2, 3],\n",
       "       [4, 5, 6],\n",
       "       [7, 8, 9]])"
      ]
     },
     "execution_count": 75,
     "metadata": {},
     "output_type": "execute_result"
    }
   ],
   "source": [
    "A"
   ]
  },
  {
   "cell_type": "code",
   "execution_count": 76,
   "id": "fe196594-5d43-4966-9b93-3ac4743dede0",
   "metadata": {},
   "outputs": [
    {
     "data": {
      "text/plain": [
       "0.0"
      ]
     },
     "execution_count": 76,
     "metadata": {},
     "output_type": "execute_result"
    }
   ],
   "source": [
    "linalg.det(A)"
   ]
  },
  {
   "cell_type": "code",
   "execution_count": 77,
   "id": "3ce97eb1-34ec-4e18-b420-c9945cb3c441",
   "metadata": {},
   "outputs": [
    {
     "data": {
      "text/plain": [
       "array([[ 14,  23,  45,  57,  65],\n",
       "       [ 23,  51,  57,  74, 103]])"
      ]
     },
     "execution_count": 77,
     "metadata": {},
     "output_type": "execute_result"
    }
   ],
   "source": [
    "H"
   ]
  },
  {
   "cell_type": "code",
   "execution_count": 78,
   "id": "80dad14c-2de7-4025-8132-658a1dba03d1",
   "metadata": {},
   "outputs": [
    {
     "ename": "LinAlgError",
     "evalue": "Last 2 dimensions of the array must be square",
     "output_type": "error",
     "traceback": [
      "\u001b[1;31m---------------------------------------------------------------------------\u001b[0m",
      "\u001b[1;31mLinAlgError\u001b[0m                               Traceback (most recent call last)",
      "Cell \u001b[1;32mIn[78], line 1\u001b[0m\n\u001b[1;32m----> 1\u001b[0m \u001b[43mlinalg\u001b[49m\u001b[38;5;241;43m.\u001b[39;49m\u001b[43mdet\u001b[49m\u001b[43m(\u001b[49m\u001b[43mH\u001b[49m\u001b[43m)\u001b[49m\n",
      "File \u001b[1;32m~\\AppData\\Local\\Programs\\Python\\Python311\\Lib\\site-packages\\numpy\\linalg\\linalg.py:2177\u001b[0m, in \u001b[0;36mdet\u001b[1;34m(a)\u001b[0m\n\u001b[0;32m   2175\u001b[0m a \u001b[38;5;241m=\u001b[39m asarray(a)\n\u001b[0;32m   2176\u001b[0m _assert_stacked_2d(a)\n\u001b[1;32m-> 2177\u001b[0m \u001b[43m_assert_stacked_square\u001b[49m\u001b[43m(\u001b[49m\u001b[43ma\u001b[49m\u001b[43m)\u001b[49m\n\u001b[0;32m   2178\u001b[0m t, result_t \u001b[38;5;241m=\u001b[39m _commonType(a)\n\u001b[0;32m   2179\u001b[0m signature \u001b[38;5;241m=\u001b[39m \u001b[38;5;124m'\u001b[39m\u001b[38;5;124mD->D\u001b[39m\u001b[38;5;124m'\u001b[39m \u001b[38;5;28;01mif\u001b[39;00m isComplexType(t) \u001b[38;5;28;01melse\u001b[39;00m \u001b[38;5;124m'\u001b[39m\u001b[38;5;124md->d\u001b[39m\u001b[38;5;124m'\u001b[39m\n",
      "File \u001b[1;32m~\\AppData\\Local\\Programs\\Python\\Python311\\Lib\\site-packages\\numpy\\linalg\\linalg.py:213\u001b[0m, in \u001b[0;36m_assert_stacked_square\u001b[1;34m(*arrays)\u001b[0m\n\u001b[0;32m    211\u001b[0m m, n \u001b[38;5;241m=\u001b[39m a\u001b[38;5;241m.\u001b[39mshape[\u001b[38;5;241m-\u001b[39m\u001b[38;5;241m2\u001b[39m:]\n\u001b[0;32m    212\u001b[0m \u001b[38;5;28;01mif\u001b[39;00m m \u001b[38;5;241m!=\u001b[39m n:\n\u001b[1;32m--> 213\u001b[0m     \u001b[38;5;28;01mraise\u001b[39;00m LinAlgError(\u001b[38;5;124m'\u001b[39m\u001b[38;5;124mLast 2 dimensions of the array must be square\u001b[39m\u001b[38;5;124m'\u001b[39m)\n",
      "\u001b[1;31mLinAlgError\u001b[0m: Last 2 dimensions of the array must be square"
     ]
    }
   ],
   "source": [
    "linalg.det(H)"
   ]
  },
  {
   "cell_type": "code",
   "execution_count": 79,
   "id": "fdc24fd0-fd27-4a53-9342-3d3f89f70bab",
   "metadata": {},
   "outputs": [],
   "source": [
    "C=np.eye(3,3)"
   ]
  },
  {
   "cell_type": "code",
   "execution_count": 80,
   "id": "516d2e46-6822-470d-be36-1628d4df753a",
   "metadata": {},
   "outputs": [
    {
     "data": {
      "text/plain": [
       "array([[1., 0., 0.],\n",
       "       [0., 1., 0.],\n",
       "       [0., 0., 1.]])"
      ]
     },
     "execution_count": 80,
     "metadata": {},
     "output_type": "execute_result"
    }
   ],
   "source": [
    "C"
   ]
  },
  {
   "cell_type": "code",
   "execution_count": 81,
   "id": "8bcef82b-2191-416a-be1b-d60fc81ae0c4",
   "metadata": {},
   "outputs": [
    {
     "data": {
      "text/plain": [
       "1.0"
      ]
     },
     "execution_count": 81,
     "metadata": {},
     "output_type": "execute_result"
    }
   ],
   "source": [
    "linalg.det(C)"
   ]
  },
  {
   "cell_type": "code",
   "execution_count": 83,
   "id": "a9e9bf3e-8bbf-4c13-b058-52a52a1f3af1",
   "metadata": {},
   "outputs": [],
   "source": [
    "N=np.random.rand(3,3)"
   ]
  },
  {
   "cell_type": "code",
   "execution_count": 84,
   "id": "b5f8bfe4-d47c-4de6-895e-c709f6e22e01",
   "metadata": {},
   "outputs": [
    {
     "data": {
      "text/plain": [
       "array([[0.24328718, 0.09797536, 0.39609087],\n",
       "       [0.94465086, 0.98649864, 0.72231883],\n",
       "       [0.44566882, 0.90513668, 0.15145257]])"
      ]
     },
     "execution_count": 84,
     "metadata": {},
     "output_type": "execute_result"
    }
   ],
   "source": [
    "N"
   ]
  },
  {
   "cell_type": "code",
   "execution_count": 85,
   "id": "dd4e0ea9-d74c-4e20-bc7e-4b5eebb23be7",
   "metadata": {},
   "outputs": [
    {
     "data": {
      "text/plain": [
       "0.05934170491336679"
      ]
     },
     "execution_count": 85,
     "metadata": {},
     "output_type": "execute_result"
    }
   ],
   "source": [
    "linalg.det(N)"
   ]
  },
  {
   "cell_type": "code",
   "execution_count": 86,
   "id": "59039aea-dac8-4272-a458-c4a578e36665",
   "metadata": {},
   "outputs": [
    {
     "data": {
      "text/plain": [
       "array([[-8.49974754,  5.79150456, -5.39205365],\n",
       "       [ 3.01381928, -2.35380632,  3.34396646],\n",
       "       [ 6.9999078 , -2.97503395,  2.48476115]])"
      ]
     },
     "execution_count": 86,
     "metadata": {},
     "output_type": "execute_result"
    }
   ],
   "source": [
    "linalg.inv(N)"
   ]
  },
  {
   "cell_type": "code",
   "execution_count": 88,
   "id": "fe14714a-9614-455d-ac57-a53de8c320f0",
   "metadata": {},
   "outputs": [
    {
     "data": {
      "text/plain": [
       "array([[ 1.00000000e+00, -3.14617276e-16, -2.17821238e-17],\n",
       "       [-1.23217374e-15,  1.00000000e+00, -3.09299323e-16],\n",
       "       [-1.97494654e-16, -9.59698299e-17,  1.00000000e+00]])"
      ]
     },
     "execution_count": 88,
     "metadata": {},
     "output_type": "execute_result"
    }
   ],
   "source": [
    "N@linalg.inv(N)"
   ]
  },
  {
   "cell_type": "code",
   "execution_count": 89,
   "id": "7f2f8646-a4be-4b78-b4a0-7b69e58991a6",
   "metadata": {},
   "outputs": [],
   "source": [
    "N=np.random.randint(10,size=(3,3))"
   ]
  },
  {
   "cell_type": "code",
   "execution_count": null,
   "id": "520d005f-cd72-4951-838d-c8a1b50339cf",
   "metadata": {},
   "outputs": [],
   "source": []
  }
 ],
 "metadata": {
  "kernelspec": {
   "display_name": "Python 3 (ipykernel)",
   "language": "python",
   "name": "python3"
  },
  "language_info": {
   "codemirror_mode": {
    "name": "ipython",
    "version": 3
   },
   "file_extension": ".py",
   "mimetype": "text/x-python",
   "name": "python",
   "nbconvert_exporter": "python",
   "pygments_lexer": "ipython3",
   "version": "3.11.4"
  }
 },
 "nbformat": 4,
 "nbformat_minor": 5
}
