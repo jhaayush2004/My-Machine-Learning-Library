{
 "cells": [
  {
   "cell_type": "code",
   "execution_count": 14,
   "id": "76e137c0",
   "metadata": {},
   "outputs": [],
   "source": [
    "class human:\n",
    "    def __init__(self,n,o):\n",
    "        self.name=n;\n",
    "        self.occupation=o;\n",
    "    def do_work(self):\n",
    "        if self.occupation==\"tennis palyer\":\n",
    "            print(self.name,\"plays tennis\")\n",
    "        elif self.occupation==\"shoots movie\":\n",
    "            print(self.name,\"shoots films\")\n",
    "        elif self.name==\"Ayush Shaurya Jha\" :\n",
    "            print(self.name,\"(Legend) make other work for them\")\n",
    "    def speaks(self):\n",
    "        print(self.name,\"speaks Hindi\")\n",
    "sania_mirza=human(\"Sania Mirza\",\"tennis palyer\") \n",
    "ajay_devgan=human(\"Ajay devgan\",\"shoots movie\")\n",
    "ayush=human(\"Ayush Shaurya Jha\",\"Legend\")"
   ]
  },
  {
   "cell_type": "code",
   "execution_count": 15,
   "id": "c6f75c34",
   "metadata": {},
   "outputs": [
    {
     "name": "stdout",
     "output_type": "stream",
     "text": [
      "Ayush Shaurya Jha (Legend) make other work for them\n",
      "Sania Mirza plays tennis\n",
      "Ajay devgan speaks Hindi\n"
     ]
    }
   ],
   "source": [
    "ayush.do_work()\n",
    "sania_mirza.do_work()\n",
    "ajay_devgan.speaks()"
   ]
  },
  {
   "cell_type": "code",
   "execution_count": 24,
   "id": "57601fce",
   "metadata": {},
   "outputs": [
    {
     "data": {
      "text/html": [
       "<iframe width=\"1500\" height=\"350\" src=\"https://youtu.be/-YQ3ESLbx3U\" frameborder=\"85\"  ></iframe>\n"
      ],
      "text/plain": [
       "<IPython.core.display.HTML object>"
      ]
     },
     "metadata": {},
     "output_type": "display_data"
    }
   ],
   "source": [
    "%%HTML\n",
    "<iframe width=\"1500\" height=\"350\" src=\"https://youtu.be/-YQ3ESLbx3U\" frameborder=\"85\" allowfullscreen ></iframe>"
   ]
  },
  {
   "cell_type": "code",
   "execution_count": null,
   "id": "7d9fb953",
   "metadata": {},
   "outputs": [],
   "source": []
  }
 ],
 "metadata": {
  "kernelspec": {
   "display_name": "Python 3 (ipykernel)",
   "language": "python",
   "name": "python3"
  },
  "language_info": {
   "codemirror_mode": {
    "name": "ipython",
    "version": 3
   },
   "file_extension": ".py",
   "mimetype": "text/x-python",
   "name": "python",
   "nbconvert_exporter": "python",
   "pygments_lexer": "ipython3",
   "version": "3.10.9"
  }
 },
 "nbformat": 4,
 "nbformat_minor": 5
}
